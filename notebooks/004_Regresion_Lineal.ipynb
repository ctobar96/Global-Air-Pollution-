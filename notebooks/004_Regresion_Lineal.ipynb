{
 "cells": [
  {
   "cell_type": "markdown",
   "metadata": {},
   "source": [
    "# **Regresión Lineal Simple**\n",
    "\n",
    "En este notebook se aplica un modelo de **Regresión Lineal Simple** utilizando el dataset [Global Air Pollution][kaggle] de Kaggle.\n",
    "\n",
    "[kaggle]: https://www.kaggle.com/datasets/hasibalmuzdadid/global-air-pollution-dataset\n",
    "\n",
    "\n",
    "#### **Objetivo del Notebook**\n",
    "Investigar la relación entre las concentraciones de **Ozone AQI Value** y **PM2.5 AQI Value** a través de la aplicación de una modelo de regresión lineal. A lo largo del análisi, se realiza el ajuste del modelo, el cálculo de los coeficientes de la recta y la evaluación de la calidad del ajuste mediante métricas como el **Error Cuadrático Medio (MSE)** y el **Coeficiente de Determinación (R²)**."
   ]
  },
  {
   "cell_type": "markdown",
   "metadata": {},
   "source": [
    "#### **Explicación del modelo de regresión lineal simple**\n",
    "\n",
    "La regresión lineal simple es un método estadístico que se utiliza para modelar la relación entre dos variables: una variable independiente (predictora) y una variable dependiente (respuesta). El objetivo es encontrar la línea que mejor se ajuste a los datos, minimizando la suma de los cuadrados de las diferencias entre los valores observados y los valores predichos por el modelo.\n",
    "\n",
    "Ecuación de la regresión lineal simple\n",
    "La ecuación de la regresión lineal simple se expresa como:\n",
    "\n",
    "**y = mx + b**\n",
    "\n",
    "donde:\n",
    "\n",
    "**y** es la variable dependiente.  \n",
    "**x** es la variable independiente.  \n",
    "**m** es la pendiente de la línea (cambio en y por cada unidad de cambio en x).  \n",
    "**b** es la intersección con el eje y (valor de y cuando x=0).  "
   ]
  },
  {
   "cell_type": "markdown",
   "metadata": {},
   "source": [
    "### Importar librerías "
   ]
  },
  {
   "cell_type": "code",
   "execution_count": 1,
   "metadata": {},
   "outputs": [],
   "source": [
    "import pandas as pd\n",
    "import matplotlib.pyplot as plt\n",
    "from matplotlib.lines import Line2D\n",
    "import seaborn as sns\n",
    "from sklearn.linear_model import LinearRegression\n",
    "from sklearn.model_selection import train_test_split\n",
    "from sklearn.metrics import mean_squared_error, r2_score\n",
    "from scipy.stats import pearsonr\n",
    "import numpy as np"
   ]
  },
  {
   "cell_type": "markdown",
   "metadata": {},
   "source": [
    "### Importar Dataset Limpio"
   ]
  },
  {
   "cell_type": "code",
   "execution_count": 2,
   "metadata": {},
   "outputs": [],
   "source": [
    "df = pd.read_csv(\"../data/dataset_clean.csv\")"
   ]
  },
  {
   "cell_type": "markdown",
   "metadata": {},
   "source": [
    "### Selección de las columnas para X (Independiente) e Y (Dependiente)"
   ]
  },
  {
   "cell_type": "code",
   "execution_count": null,
   "metadata": {},
   "outputs": [],
   "source": [
    "x = df['Ozone AQI Value'] # Variable independiente\n",
    "y = df['PM2.5 AQI Value'] # Variable dependiente"
   ]
  },
  {
   "cell_type": "markdown",
   "metadata": {},
   "source": [
    "### Análisis de distribución de las variables"
   ]
  },
  {
   "cell_type": "code",
   "execution_count": null,
   "metadata": {},
   "outputs": [],
   "source": [
    "plt.figure(figsize=(14,6))\n",
    "\n",
    "# Distribución de la variable"
   ]
  }
 ],
 "metadata": {
  "kernelspec": {
   "display_name": "Python 3",
   "language": "python",
   "name": "python3"
  },
  "language_info": {
   "codemirror_mode": {
    "name": "ipython",
    "version": 3
   },
   "file_extension": ".py",
   "mimetype": "text/x-python",
   "name": "python",
   "nbconvert_exporter": "python",
   "pygments_lexer": "ipython3",
   "version": "3.12.4"
  }
 },
 "nbformat": 4,
 "nbformat_minor": 2
}
